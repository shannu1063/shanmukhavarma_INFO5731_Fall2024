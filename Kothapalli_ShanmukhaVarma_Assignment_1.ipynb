{
  "cells": [
    {
      "cell_type": "markdown",
      "metadata": {
        "id": "view-in-github",
        "colab_type": "text"
      },
      "source": [
        "<a href=\"https://colab.research.google.com/github/shannu1063/shanmukhavarma_INFO5731_Fall2024/blob/main/Kothapalli_ShanmukhaVarma_Assignment_1.ipynb\" target=\"_parent\"><img src=\"https://colab.research.google.com/assets/colab-badge.svg\" alt=\"Open In Colab\"/></a>"
      ]
    },
    {
      "cell_type": "markdown",
      "metadata": {
        "id": "Ryk8D1Q4Wsrp"
      },
      "source": [
        "# **INFO5731 Assignment One**"
      ]
    },
    {
      "cell_type": "markdown",
      "source": [
        "This assignment includes range of programming tasks and data analysis exercises, aiming to enhance your Python skills and proficiency in string manipulation, numerical computations, and data science. Follow the instructions carefully and design well-structured Python programs to address each question.\n",
        "\n",
        "Late Submission will have a penalty of 10% reduction for each day after the deadline."
      ],
      "metadata": {
        "id": "qcP6re2g5A5r"
      }
    },
    {
      "cell_type": "markdown",
      "metadata": {
        "id": "JkzR8cFAyGik"
      },
      "source": [
        "# Question 1 (10 points).\n",
        "\n",
        "The formula that describes the volume V of a hemisphere with radius r is the following:\n",
        "\n",
        "$ V=\\frac{2}{3}\\ast\\ \\pi\\ast\\ r^3 $\n",
        "\n",
        "Write a program to calculate the value of V when r is in the range of even numbers from 1-20. Output the result in the following format:\n",
        "\n",
        "\tr\tV\n",
        "\t2\t…\n",
        "\t4\t…\n",
        "\t6\t…\n",
        "\t.\n",
        "\t.\n",
        "\t.\n",
        "\t20\t…\n"
      ]
    },
    {
      "cell_type": "code",
      "execution_count": 34,
      "metadata": {
        "id": "jDyTKYs-yGit",
        "colab": {
          "base_uri": "https://localhost:8080/"
        },
        "outputId": "3af7bdfa-0b60-47ce-d62e-6bceab316877"
      },
      "outputs": [
        {
          "output_type": "stream",
          "name": "stdout",
          "text": [
            "r    V\n",
            "2    16.76\n",
            "4    134.04\n",
            "6    452.39\n",
            "8    1072.33\n",
            "10   2094.40\n",
            "12   3619.11\n",
            "14   5747.02\n",
            "16   8578.64\n",
            "18   12214.51\n",
            "20   16755.16\n"
          ]
        }
      ],
      "source": [
        "import math\n",
        "\n",
        "def calculate_hemisphere_volume(r):\n",
        "    return (2/3) * math.pi * (r ** 3)\n",
        "\n",
        "print(\"r    V\")\n",
        "for r in range(2, 21, 2):\n",
        "    volume = hemisphere_volume(r)\n",
        "    print(f\"{r:<5}{volume:.2f}\")"
      ]
    },
    {
      "cell_type": "markdown",
      "metadata": {
        "id": "90_NR8c5XGWc"
      },
      "source": [
        "# Question 2 (20 points)\n",
        "\n",
        "(a) Write a Python program to generate a sequence of 12 random numbers falling within the range of 50 to 150.\n",
        "\n",
        "(b) Arrange the generated numbers in ascending order. Display the sorted list.\n",
        "\n",
        "(c) Extend the program to arrange the numbers in descending order as well. Present the sorted list accordingly.\n",
        "\n",
        "(d) Compute and output the average of the entire group of generated numbers.\n",
        "\n",
        "(e) Enhance the program to calculate and display the average of the first 6 numbers from both the ascending and descending sorted lists."
      ]
    },
    {
      "cell_type": "code",
      "execution_count": 57,
      "metadata": {
        "id": "5QX6bJjGWXY9",
        "colab": {
          "base_uri": "https://localhost:8080/"
        },
        "outputId": "54dda9f4-ad98-4455-e239-988aaaafaaaa"
      },
      "outputs": [
        {
          "output_type": "stream",
          "name": "stdout",
          "text": [
            "(a) The numbers generated: [62, 92, 72, 72, 147, 70, 100, 103, 115, 99, 72, 139]\n",
            "(b) The Ascending Order: [51, 56, 57, 84, 86, 105, 114, 118, 119, 124, 125, 137]\n",
            "(c) The Descending Order: [137, 125, 124, 119, 118, 114, 105, 86, 84, 57, 56, 51]\n",
            "(d) Average of the entire group of numbers: 98.00\n",
            "(e.1) Average of the first 6 numbers in ascending order: 73.17\n",
            "(e.2) Average of the first 6 numbers in descending order: 122.83\n"
          ]
        }
      ],
      "source": [
        "# Write code for each of the sub parts with proper comments.\n",
        "import random\n",
        "\n",
        "# (a) Generate a sequence of 12 random numbers falling between 50 and 150\n",
        "A = [random.randint(50, 150) for i in range(12)]\n",
        "print(\"(a) The numbers generated:\", A)\n",
        "\n",
        "# (b) Sort the list in ascending order\n",
        "ascending_order = sorted(numbers)\n",
        "print(\"(b) The Ascending Order:\", ascending_order)\n",
        "\n",
        "# (c) sort the list in descending order\n",
        "descending_order = sorted(numbers, reverse=True)\n",
        "print(\"(c) The Descending Order:\", descending_order)\n",
        "\n",
        "# (d) compute and display the average of the entire group of generated numbers\n",
        "average = sum(numbers) / len(numbers)\n",
        "print(f\"(d) Average of the entire group of numbers: {average:.2f}\")\n",
        "\n",
        "# (e) calculate and display the average of first 6 numbers from both the aascending and descending sorted lists\n",
        "avg_of_first_6_ascending = sum(ascending_order[:6]) / 6\n",
        "avg_of_first_6_descending = sum(descending_order[:6]) / 6\n",
        "print(f\"(e.1) Average of the first 6 numbers in ascending order: {avg_of_first_6_ascending:.2f}\")\n",
        "print(f\"(e.2) Average of the first 6 numbers in descending order: {avg_of_first_6_descending:.2f}\")\n"
      ]
    },
    {
      "cell_type": "markdown",
      "metadata": {
        "id": "1F_PZdH9Sh49"
      },
      "source": [
        "# Question 3 (20 points).\n",
        "\n",
        "Create a Python program that encompasses various string manipulation task:\n",
        "\n",
        "(a) Prompt the user to input two sentences.\n",
        "\n",
        "(b) Transform each sentence into a list, where each element corresponds to a word in the sentence. For example, if the sentences are \"Hello, how are you doing today?\" and \"This is an example sentence for the program!\"\n",
        "\n",
        "The program should output:\n",
        "['Hello', ',', 'how', 'are', 'you', 'doing', 'today', '?', 'This', 'is', 'an', 'example', 'sentence', 'for', 'the', 'program', '!']\n",
        "\n",
        "(c) Compare the two sentences. Print out a list of words that occur in both sentences.\n",
        "\n",
        "(d) Remove any punctuation from the sentence and print the sanitized sentences. It should remove at least the following characters, but it can remove more: period(“.”), comma (“,”), semicolon (“;”), and colon (“:”).\n",
        "\n",
        "(e) Count the number of vowels in each of the sentences. Print out each vowel and the occurrences  in the each of the two sentences separately, such as:\n",
        "\n",
        "Sentence1: a:2, e:2, i:0, etc.\n",
        "Sentence2: a:1, e:2, i:2, etc.\n",
        "\n",
        "Design a well-structured Python program to execute these tasks efficiently."
      ]
    },
    {
      "cell_type": "code",
      "execution_count": 62,
      "metadata": {
        "id": "Y0oOSlsOS0cq",
        "colab": {
          "base_uri": "https://localhost:8080/"
        },
        "outputId": "0e885a33-d0a4-4bb2-86cb-db69519025af"
      },
      "outputs": [
        {
          "output_type": "stream",
          "name": "stdout",
          "text": [
            "Type the first sentence: \"Hello, how are you doing?\"\n",
            "Type the second sentence:\"hello, I am fine.\"\n",
            "\n",
            "Combined sentence: ['\"Hello,', 'how', 'are', 'you', 'doing?\"', '\"hello,', 'I', 'am', 'fine.\"']\n",
            "\n",
            "Common words in both sentences: []\n",
            "\n",
            "Sanitized sentence 1: Hello how are you doing\n",
            "\n",
            "Sanitized sentence 2: hello I am fine\n",
            "\n",
            "Vowel counts in sentence 1:\n",
            "a: 1\n",
            "e: 2\n",
            "i: 1\n",
            "o: 4\n",
            "u: 1\n",
            "A: 0\n",
            "E: 0\n",
            "I: 0\n",
            "O: 0\n",
            "U: 0\n",
            "\n",
            "Vowel counts in sentence 2:\n",
            "a: 1\n",
            "e: 2\n",
            "i: 2\n",
            "o: 1\n",
            "u: 0\n",
            "A: 0\n",
            "E: 0\n",
            "I: 0\n",
            "O: 0\n",
            "U: 0\n"
          ]
        }
      ],
      "source": [
        "import string\n",
        "\n",
        "# (a) Prompt the user to input two sentences.\n",
        "sentence1 = input(\"Type the first sentence: \")\n",
        "sentence2 = input(\"Type the second sentence:\")\n",
        "\n",
        "# (b) Transform each sentence into a list, where each element corresponds to a word in the sentence.\n",
        "sentence_list1 = sentence1.split()\n",
        "sentence_list2 = sentence2.split()\n",
        "\n",
        "# Combine the two sentences into one list.\n",
        "combined_list = sentence_list1 + sentence_list2\n",
        "print(\"\\nCombined sentence:\", combined_list)\n",
        "\n",
        "# (c) Compare the two sentences to find out thr words which are in common.\n",
        "common_words = list(set(sentence_list1) & set(sentence_list2))\n",
        "print(\"\\nCommon words in both sentences:\", common_words)\n",
        "\n",
        "# (d) Remove punctuation from both the sentences\n",
        "def remove_punctuation(sentence):\n",
        "    return sentence.translate(str.maketrans('', '', string.punctuation))\n",
        "\n",
        "sanitized_sentence1 = remove_punctuation(sentence1)\n",
        "sanitized_sentence2 = remove_punctuation(sentence2)\n",
        "print(\"\\nSanitized sentence 1:\", sanitized_sentence1)\n",
        "print(\"\\nSanitized sentence 2:\", sanitized_sentence2)\n",
        "\n",
        "# (e) Count the number of vowels in both\" sentence\n",
        "def count_vowels(sentence):\n",
        "    vowels = \"aeiouAEIOU\"\n",
        "    vowel_count = {vowel: sentence.lower().count(vowel) for vowel in vowels}\n",
        "    return vowel_count\n",
        "\n",
        "vowel_count1 = count_vowels(sanitized_sentence1)\n",
        "vowel_count2 = count_vowels(sanitized_sentence2)\n",
        "\n",
        "# Print vowel counts for both sentences\n",
        "print(\"\\nVowel counts in sentence 1:\")\n",
        "for vowel, count in vowel_count1.items():\n",
        "    print(f\"{vowel}: {count}\")\n",
        "\n",
        "print(\"\\nVowel counts in sentence 2:\")\n",
        "for vowel, count in vowel_count2.items():\n",
        "    print(f\"{vowel}: {count}\")\n"
      ]
    },
    {
      "cell_type": "markdown",
      "source": [
        "# Question 4 (20 Points)"
      ],
      "metadata": {
        "id": "OP4-5qxAtInv"
      }
    },
    {
      "cell_type": "markdown",
      "source": [
        "Design and implement a simple command-line calculator program. The program should handle both integers and floating-point numbers.\n",
        "\n",
        "(a) Write program that takes a mathematical expression as input and evaluates it. The program should support addition, subtraction, multiplication, and division.\n",
        "\n",
        "(b) Extend the calculator to handle parentheses in mathematical expressions. Implement the necessary logic to evaluate expressions with nested parentheses.\n",
        "\n",
        "(c) Enhance your calculator to include additional mathematical operations such as exponentiation, square root, and modulus.\n",
        "\n",
        "(d) Implement error handling in the calculator program. Handle cases such as division by zero and invalid input expressions. Provide meaningful error messages.\n",
        "\n",
        "(e) Implement a command to exit the calculator."
      ],
      "metadata": {
        "id": "uzN4_hDptK9U"
      }
    },
    {
      "cell_type": "code",
      "source": [
        "import math\n",
        "\n",
        "def evaluate_expression(expression):\n",
        "    \"\"\"Evaluate a mathematical expression with basic operations and functions.\"\"\"\n",
        "    try:\n",
        "        # Replace `sqrt` function calls with math.sqrt\n",
        "        expression = expression.replace('sqrt', 'math.sqrt')\n",
        "        # Evaluate the expression\n",
        "        result = eval(expression, {\"math\": math})\n",
        "        return result\n",
        "    except ZeroDivisionError:\n",
        "        return \"Error: Division by zero.\"\n",
        "    except Exception as e:\n",
        "        return f\"Error: {str(e)}\"\n",
        "\n",
        "def main():\n",
        "    print(\"Simple Command-Line Calculator\")\n",
        "    print(\"Supported operations: + (addition), - (subtraction), * (multiplication), / (division), ** (exponentiation), sqrt(x) (square root), % (modulus)\")\n",
        "    print(\"Type 'exit' to quit.\")\n",
        "\n",
        "    while True:\n",
        "        expression = input(\"Enter an expression: \").strip()\n",
        "\n",
        "        if expression.lower() == 'exit':\n",
        "            print(\"work done.\")\n",
        "            return\n",
        "\n",
        "\n",
        "        result = evaluate_expression(expression)\n",
        "        print(\"Result:\", result)\n",
        "\n",
        "if __name__ == \"__main__\":\n",
        "    main()\n"
      ],
      "metadata": {
        "id": "8nQnVxjJuYtu",
        "colab": {
          "base_uri": "https://localhost:8080/"
        },
        "outputId": "706ed207-3111-4e28-c02c-4214300ae933"
      },
      "execution_count": 74,
      "outputs": [
        {
          "output_type": "stream",
          "name": "stdout",
          "text": [
            "Simple Command-Line Calculator\n",
            "Supported operations: + (addition), - (subtraction), * (multiplication), / (division), ** (exponentiation), sqrt(x) (square root), % (modulus)\n",
            "Type 'exit' to quit.\n",
            "Enter an expression: 2*8\n",
            "Result: 16\n",
            "Enter an expression: exit\n",
            "work done.\n"
          ]
        }
      ]
    },
    {
      "cell_type": "markdown",
      "metadata": {
        "id": "z3tBE7E-Xn5X"
      },
      "source": [
        "# Question 5 (30 points).\n",
        "\n",
        "In the field of Data Science, data is often formatted as a comma-delimited (CSV) file, where each line in a file corresponds to a field's value. Refer to Chapter 9 (p. 106) for more information on comma-delimited files.\n",
        "\n",
        "To answer this question, you will need to download the file [Assignment1_denton_housing.csv](https://raw.githubusercontent.com/unt-iialab/info5731-spring2022/main/assignments/Assignment1_denton_housing.csv) included with this assignment. The file contains statistics about housing in the city of Denton from 2008 to 2014. Write a program to implement the following questions.\n",
        "\n",
        "(a) (5 pts) Calculate the difference in the number of Occupied Housing Units from year to year and print it. The difference must be calculated for the consecutive years such as 2008-2009, 2009-2010 etc. Finally, print the values in the ascending order.\n",
        "\n",
        "(b) (5 pts) For all the years, calculate the percentage of housing units which are vacant an occupied. Print the results in the following format:\n",
        "\n",
        "Year Vacant Housing Units Occupied Housing Units\n",
        "\n",
        "    2008  30%   70%                          \n",
        "\t2009 ----- -----\n",
        "\t2010 ----- -----\n",
        "    2011 ----- -----\n",
        "\t2012 ----- -----\n",
        "    2013 ----- -----\n",
        "\t2014 ----- -----\n",
        "  \n",
        "  \n",
        "\n",
        "(c) (10 pts) Calculate and print the valued and years in which the highest number of housing units were vacant and occupied. Print the results in the following format:  \n",
        "\n",
        "                              Year\tValue\n",
        "\tVacant Housing Units\t  -----   -----\n",
        "\tOccupied Housing Units\t-----   -----\n",
        "\n",
        "(d) (10 pts) Calculate the harmonic mean of the total housing units and print it out. You can find the information about harmonic mean here: https://ncalculators.com/statistics/harmonic-mean-calculator.htm"
      ]
    },
    {
      "cell_type": "code",
      "execution_count": 128,
      "metadata": {
        "id": "lqGYuHBhcsRH",
        "colab": {
          "base_uri": "https://localhost:8080/"
        },
        "outputId": "5f7cdbdc-c40a-4d29-aa4d-b87fba6cc702"
      },
      "outputs": [
        {
          "output_type": "stream",
          "name": "stdout",
          "text": [
            "\n",
            "(a)The Difference of Occupied Housing Units:\n",
            "2008-2009: 36711 -> 35916, Difference: -795\n",
            "2009-2010: 35916 -> 41007, Difference: 5091\n",
            "2010-2011: 41007 -> 40704, Difference: -303\n",
            "2011-2012: 40704 -> 42108, Difference: 1404\n",
            "2012-2013: 42108 -> 43673, Difference: 1565\n",
            "2013-2014: 43673 -> 46295, Difference: 2622\n",
            "Sorted differences:\n",
            "2008-2009: -795\n",
            "2010-2011: -303\n",
            "2011-2012: 1404\n",
            "2012-2013: 1565\n",
            "2013-2014: 2622\n",
            "2009-2010: 5091\n",
            "\n",
            "(b) Percentage of Vacant and Occupied Housing Units:\n",
            "Year Vacant Housing Units Occupied Housing Units\n",
            "2008  10.9%   89.1%\n",
            "2009  9.1%   90.9%\n",
            "2010  8.1%   91.9%\n",
            "2011  9.4%   90.6%\n",
            "2012  6.7%   93.3%\n",
            "2013  8.8%   91.2%\n",
            "2014  5.7%   94.3%\n",
            "\n",
            "(c) Years with high number of vacant and occupied housing units:\n",
            "                          Year    Value\n",
            "Vacant Housing Units      2008   4483\n",
            "Occupied Housing Units    2014   46295\n",
            "\n",
            "(d) Harmonic mean of total housing units: 44398.29\n",
            "  (Debug: Total units per year: [41194, 39499, 44642, 44917, 45121, 47888, 49109])\n"
          ]
        }
      ],
      "source": [
        "import csv\n",
        "import pandas as pd\n",
        "from collections import defaultdict\n",
        "\n",
        "# Lets look into the CSV file\n",
        "data = defaultdict(lambda: defaultdict(int))\n",
        "with open('Assignment1_denton_housing.csv', 'r') as f:\n",
        "    reader = csv.DictReader(f)\n",
        "    for row in reader:\n",
        "        year = safe_int(row['year'])\n",
        "        value = safe_int(row['value'])\n",
        "        data[year][row['title_field']] = value\n",
        "\n",
        "\n",
        "# (a) Now calculate the differences in Occupied Housing Units\n",
        "print(\"\\n(a)The Difference of Occupied Housing Units:\")\n",
        "differences = []\n",
        "years = sorted(data.keys())\n",
        "for i in range(1, len(years)):\n",
        "    prev = data[years[i-1]]['Occupied Housing Units']\n",
        "    curr = data[years[i]]['Occupied Housing Units']\n",
        "    diff = curr - prev\n",
        "    differences.append((years[i-1], years[i], diff))\n",
        "    print(f\"{years[i-1]}-{years[i]}: {prev} -> {curr}, Difference: {diff}\")\n",
        "\n",
        "print(\"Sorted differences:\")\n",
        "for diff in sorted(differences, key=lambda x: x[2]):\n",
        "    print(f\"{diff[0]}-{diff[1]}: {diff[2]}\")\n",
        "\n",
        "# (b) Begin to Calculate and Print the percentage of vacant and occupied housing units\n",
        "\n",
        "df = pd.read_csv('Assignment1_denton_housing.csv')\n",
        "\n",
        "# sort the data of Vacant and Occupied Housing Units\n",
        "vacant_units = df[df['title_field'] == 'Vacant Housing Units'].sort_values(by='year')\n",
        "occupied_units = df[df['title_field'] == 'Occupied Housing Units'].sort_values(by='year')\n",
        "total_units = df[df['title_field'] == 'Total Housing Units'].sort_values(by='year')\n",
        "\n",
        "# Calculate percentage for every year\n",
        "print(\"\\n(b) Percentage of Vacant and Occupied Housing Units:\")\n",
        "print(\"Year Vacant Housing Units Occupied Housing Units\")\n",
        "\n",
        "years = total_units['year'].unique()\n",
        "\n",
        "for year in years:\n",
        "    total = total_units[total_units['year'] == year]['value'].values[0]\n",
        "    vacant_value = vacant_units[vacant_units['year'] == year]['value'].values[0]\n",
        "    occupied_value = occupied_units[occupied_units['year'] == year]['value'].values[0]\n",
        "\n",
        "    # Calculate percentages\n",
        "    vacant_percent = (vacant_value / total) * 100\n",
        "    occupied_percent = (occupied_value / total) * 100\n",
        "\n",
        "    print(f\"{year}  {vacant_percent:.1f}%   {occupied_percent:.1f}%\")\n",
        "\n",
        "\n",
        "# (c) Find the years with highest number of vacant and occupied housing units\n",
        "max_vacant = max(((year, data[year]['Vacant Housing Units']) for year in years), key=lambda x: x[1])\n",
        "max_occupied = max(((year, data[year]['Occupied Housing Units']) for year in years), key=lambda x: x[1])\n",
        "\n",
        "print(\"\\n(c) Years with high number of vacant and occupied housing units:\")\n",
        "print(\"                          Year    Value\")\n",
        "print(f\"Vacant Housing Units      {max_vacant[0]}   {max_vacant[1]}\")\n",
        "print(f\"Occupied Housing Units    {max_occupied[0]}   {max_occupied[1]}\")\n",
        "\n",
        "# (d) Calculate the harmonic mean of total housing units\n",
        "total_units = [data[year]['Total Housing Units'] for year in years]\n",
        "if 0 in total_units:\n",
        "    print(\"Warning: There are years with 0 total housing units, which will cause issues with harmonic mean calculation.\")\n",
        "harmonic_mean = len(total_units) / sum(1/x if x != 0 else float('inf') for x in total_units)\n",
        "\n",
        "print(f\"\\n(d) Harmonic mean of total housing units: {harmonic_mean:.2f}\")\n",
        "print(f\"  (Debug: Total units per year: {total_units})\")"
      ]
    },
    {
      "cell_type": "markdown",
      "source": [
        "# Mandatory Question\n",
        "\n",
        "Provide your thoughts on the assignment. What did you find challenging, and what aspects did you enjoy? Your opinion on the provided time to complete the assignment. Share any suggestions for improvement. Your feedback will be valuable for enhancing the learning experience."
      ],
      "metadata": {
        "id": "q8BFCvWp32cf"
      }
    },
    {
      "cell_type": "code",
      "source": [
        "# Write your response below"
      ],
      "metadata": {
        "id": "_e557s2w4BpK"
      },
      "execution_count": null,
      "outputs": []
    }
  ],
  "metadata": {
    "colab": {
      "provenance": [],
      "include_colab_link": true
    },
    "kernelspec": {
      "display_name": "Python 3 (ipykernel)",
      "language": "python",
      "name": "python3"
    },
    "language_info": {
      "codemirror_mode": {
        "name": "ipython",
        "version": 3
      },
      "file_extension": ".py",
      "mimetype": "text/x-python",
      "name": "python",
      "nbconvert_exporter": "python",
      "pygments_lexer": "ipython3",
      "version": "3.9.12"
    }
  },
  "nbformat": 4,
  "nbformat_minor": 0
}