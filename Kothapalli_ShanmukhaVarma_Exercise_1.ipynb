{
  "cells": [
    {
      "cell_type": "markdown",
      "metadata": {
        "id": "view-in-github",
        "colab_type": "text"
      },
      "source": [
        "<a href=\"https://colab.research.google.com/github/shannu1063/shanmukhavarma_INFO5731_Fall2024/blob/main/Kothapalli_ShanmukhaVarma_Exercise_1.ipynb\" target=\"_parent\"><img src=\"https://colab.research.google.com/assets/colab-badge.svg\" alt=\"Open In Colab\"/></a>"
      ]
    },
    {
      "cell_type": "markdown",
      "metadata": {
        "id": "DymRJbxDBCnf"
      },
      "source": [
        "# **INFO5731 Exercise 1**\n",
        "\n",
        "This exercise covers a variety of fundamental concepts in Python and is designed to help students improve their coding skills and problem-solving abilities.\n",
        "\n",
        "**Expectations**:\n",
        "*   Students are expected to complete the exercise during lecture period to meet the active participation criteria of the course.\n",
        "*   Use the provided .*ipynb* document to write your code & respond to the questions. Avoid generating a new file.\n",
        "*   Write complete answers and run all the cells before submission.\n",
        "*   Make sure the submission is \"clean\"; *i.e.*, no unnecessary code cells.\n",
        "*   Once finished, allow shared rights from top right corner (*see Canvas for details*).\n",
        "\n",
        "**Total points**: 40\n",
        "\n",
        "**Deadline**: This in-class exercise is due at the end of the day tomorrow, at 11:59 PM.\n",
        "\n",
        "**Late submissions cannot be considered, and no requests will be answered. Manage your time accordingly.**\n"
      ]
    },
    {
      "cell_type": "markdown",
      "source": [
        "## Question 1\n",
        "Write a Python program that  prompts the user to input the length and width of a rectangle, and then calculates and displays the area of the rectangle."
      ],
      "metadata": {
        "id": "FBKvD6O_TY6e"
      }
    },
    {
      "cell_type": "code",
      "source": [
        "length = float(input(\" length of the rectangle: \"))\n",
        "\n",
        "width = float(input(\" width of the rectangle: \"))\n",
        "\n",
        "area = length * width\n",
        "\n",
        "print(f\"Area of the rectangle is: {area}\")\n"
      ],
      "metadata": {
        "id": "cikVKDXdTbzE",
        "colab": {
          "base_uri": "https://localhost:8080/"
        },
        "outputId": "83d8e3e3-85f4-46e4-b6c6-f926f16282cc"
      },
      "execution_count": 1,
      "outputs": [
        {
          "output_type": "stream",
          "name": "stdout",
          "text": [
            " length of the rectangle: 5\n",
            " width of the rectangle: 5\n",
            "Area of the rectangle is: 25.0\n"
          ]
        }
      ]
    },
    {
      "cell_type": "markdown",
      "source": [
        "## Question 2\n",
        "Create a Python program that interactively takes two numerical inputs from the user and swaps their values without utilizing an extra variable."
      ],
      "metadata": {
        "id": "E9RqrlwdTfvl"
      }
    },
    {
      "cell_type": "code",
      "source": [
        "# write your answer here\n",
        "num1 = float(input(\" First number: \"))\n",
        "num2 = float(input(\" Second number: \"))\n",
        "\n",
        "num1, num2 = num2, num1\n",
        "\n",
        "print(f\"After swapp: num1 = {num1}, num2 = {num2}\")"
      ],
      "metadata": {
        "id": "4XvRknixTh1g",
        "colab": {
          "base_uri": "https://localhost:8080/"
        },
        "outputId": "fb7d71db-6843-4e1f-a80a-ab48b053a2b7"
      },
      "execution_count": 2,
      "outputs": [
        {
          "output_type": "stream",
          "name": "stdout",
          "text": [
            " First number: 2\n",
            " Second number: 4\n",
            "After swapp: num1 = 4.0, num2 = 2.0\n"
          ]
        }
      ]
    },
    {
      "cell_type": "markdown",
      "metadata": {
        "id": "03jb4GZsBkBS"
      },
      "source": [
        "## Question 3\n",
        "Write a Python script to determine and print the length of a user-input string."
      ]
    },
    {
      "cell_type": "code",
      "execution_count": 3,
      "metadata": {
        "id": "YaGLbSHHB8Ej",
        "colab": {
          "base_uri": "https://localhost:8080/"
        },
        "outputId": "73525244-8da7-4c1d-8208-a48c8ee571a8"
      },
      "outputs": [
        {
          "output_type": "stream",
          "name": "stdout",
          "text": [
            "Enter a string: shannu\n",
            "length of the string is: 6\n"
          ]
        }
      ],
      "source": [
        "user_input = input(\"Enter a string: \")\n",
        "\n",
        "length_of_string = len(user_input)\n",
        "\n",
        "print(f\"length of the string is: {length_of_string}\")\n"
      ]
    },
    {
      "cell_type": "markdown",
      "metadata": {
        "id": "jJDe71iLB616"
      },
      "source": [
        "## Question 4\n",
        "Construct a Python program that counts and displays the occurrences of each character in a given string.\n",
        "\n",
        "Sample String: 'openai.ai',\n",
        "\n",
        "Expected Result: {'a': 2, 'i': 2, '.': 1, 'o': 1, 'p': 1, 'e': 1, 'n': 1}"
      ]
    },
    {
      "cell_type": "code",
      "execution_count": 4,
      "metadata": {
        "id": "MtKskTzbCLaU",
        "colab": {
          "base_uri": "https://localhost:8080/"
        },
        "outputId": "b4423bef-40db-4121-e10c-f60990df1401"
      },
      "outputs": [
        {
          "output_type": "stream",
          "name": "stdout",
          "text": [
            "Enter a string: 'openai.ai',\n",
            "{\"'\": 2, 'o': 1, 'p': 1, 'e': 1, 'n': 1, 'a': 2, 'i': 2, '.': 1, ',': 1}\n"
          ]
        }
      ],
      "source": [
        "user_input = input(\"Enter a string: \")\n",
        "\n",
        "char_count = {}\n",
        "\n",
        "for char in user_input:\n",
        "\n",
        "    if char in char_count:\n",
        "        char_count[char] += 1\n",
        "\n",
        "    else:\n",
        "        char_count[char] = 1\n",
        "\n",
        "\n",
        "print(char_count)\n",
        "\n"
      ]
    },
    {
      "cell_type": "markdown",
      "metadata": {
        "id": "55W9AMdXCSpV"
      },
      "source": [
        "## Question 5\n",
        "Design a Python code to calculate the sum of all elements in a user-provided list."
      ]
    },
    {
      "cell_type": "code",
      "execution_count": 5,
      "metadata": {
        "id": "I57NXsauCec2",
        "colab": {
          "base_uri": "https://localhost:8080/"
        },
        "outputId": "2dc36443-71ad-4de8-d9cd-ac3ee5912080"
      },
      "outputs": [
        {
          "output_type": "stream",
          "name": "stdout",
          "text": [
            "List of numbers separated by spaces: 1 2 3 4  5\n",
            "The sum of the elements in the list is: 15.0\n"
          ]
        }
      ],
      "source": [
        "user_input = input(\"List of numbers separated by spaces: \")\n",
        "\n",
        "numbers_list = list(map(float, user_input.split()))\n",
        "\n",
        "sum_of_elements = sum(numbers_list)\n",
        "\n",
        "print(f\"The sum of the elements in the list is: {sum_of_elements}\")\n"
      ]
    },
    {
      "cell_type": "markdown",
      "metadata": {
        "id": "4ulBZ6yhCi9F"
      },
      "source": [
        "## Question 6\n",
        "Write a Python program that modifies a given string by replacing all occurrences of its first character with '$', excluding the first character itself.\n",
        "\n",
        "\n",
        "Sample String : 'restart‘\n",
        "Expected Result : 'resta\\$t'"
      ]
    },
    {
      "cell_type": "code",
      "execution_count": 7,
      "metadata": {
        "id": "Fj0XhwbBCw2o",
        "colab": {
          "base_uri": "https://localhost:8080/"
        },
        "outputId": "0477a806-b020-4285-878d-65294b6477c6"
      },
      "outputs": [
        {
          "output_type": "stream",
          "name": "stdout",
          "text": [
            "Please enter a string: 'restart'\n",
            "Modified string: 'restart$\n"
          ]
        }
      ],
      "source": [
        "user_input = input(\"Please enter a string: \")\n",
        "\n",
        "first_char = user_input[0]\n",
        "\n",
        "modified_string = first_char + user_input[1:].replace(first_char, '$')\n",
        "\n",
        "print(f\"Modified string: {modified_string}\")\n"
      ]
    },
    {
      "cell_type": "markdown",
      "source": [
        "## Question 7\n",
        "Write a Python program using a while loop to compute the factorial of a user-supplied number."
      ],
      "metadata": {
        "id": "qVXA3q7ET5JI"
      }
    },
    {
      "cell_type": "code",
      "source": [
        "number = int(input(\"Any positive integer: \"))\n",
        "\n",
        "factorial = 1\n",
        "\n",
        "counter = number\n",
        "\n",
        "while counter > 0:\n",
        "    factorial *= counter\n",
        "    counter -= 1\n",
        "\n",
        "print(f\"The factorial of {number} is: {factorial}\")\n"
      ],
      "metadata": {
        "id": "Lbt7R6UkT7BA",
        "colab": {
          "base_uri": "https://localhost:8080/"
        },
        "outputId": "c8d46b2b-c041-4e44-fc86-8b321933031b"
      },
      "execution_count": 8,
      "outputs": [
        {
          "output_type": "stream",
          "name": "stdout",
          "text": [
            "Any positive integer: 9\n",
            "The factorial of 9 is: 362880\n"
          ]
        }
      ]
    },
    {
      "cell_type": "markdown",
      "source": [
        "## Question 8\n",
        "Create a program that accepts a list of numbers as input and outputs a new list containing only the even numbers."
      ],
      "metadata": {
        "id": "6YfbzXMNT--R"
      }
    },
    {
      "cell_type": "code",
      "source": [
        "user_input = input(\"list of numbers separated by spaces: \")\n",
        "\n",
        "numbers_list = list(map(int, user_input.split()))\n",
        "\n",
        "even_numbers = [num for num in numbers_list if num % 2 == 0]\n",
        "\n",
        "print(f\"The list of even numbers is: {even_numbers}\")\n"
      ],
      "metadata": {
        "id": "54q7wMQPUAKu",
        "colab": {
          "base_uri": "https://localhost:8080/"
        },
        "outputId": "67463920-87e1-4cb8-a13a-92ba2266ac64"
      },
      "execution_count": 9,
      "outputs": [
        {
          "output_type": "stream",
          "name": "stdout",
          "text": [
            "list of numbers separated by spaces: 1 2 3 4\n",
            "The list of even numbers is: [2, 4]\n"
          ]
        }
      ]
    },
    {
      "cell_type": "markdown",
      "metadata": {
        "id": "_bIP7s1MCzue"
      },
      "source": [
        "## Question 9\n",
        "Design a Python function to check if a number is prime.\n"
      ]
    },
    {
      "cell_type": "code",
      "execution_count": 10,
      "metadata": {
        "id": "w79QilHXD3Mg"
      },
      "outputs": [],
      "source": [
        "def is_prime(number):\n",
        "    if number <= 1:\n",
        "        return False\n",
        "\n",
        "    for i in range(2, int(number ** 0.5) + 1):\n",
        "        if number % i == 0:\n",
        "            return False\n",
        "\n",
        "    return True\n"
      ]
    },
    {
      "cell_type": "markdown",
      "metadata": {
        "id": "xCa2bK9aD4Q3"
      },
      "source": [
        "## Question 10\n",
        "Write a Python program to concatenate following dictionaries to create a new one.\n",
        "\n",
        "Sample Dictionary : dic1={1:10, 2:20}, dic2={3:30, 4:40}, dic3={5:50,6:60},\n",
        "\n",
        "Expected Result : {1: 10, 2: 20, 3: 30, 4: 40, 5: 50, 6: 60}\n"
      ]
    },
    {
      "cell_type": "code",
      "execution_count": 18,
      "metadata": {
        "id": "_z4aLqAbEET1",
        "colab": {
          "base_uri": "https://localhost:8080/"
        },
        "outputId": "ae81783a-c6ad-4d0c-dd94-38f4ab4a0baf"
      },
      "outputs": [
        {
          "output_type": "stream",
          "name": "stdout",
          "text": [
            "Combined dictionary: {1: 10, 2: 20, 3: 30, 4: 40, 5: 50, 6: 60}\n"
          ]
        }
      ],
      "source": [
        "dic1 = {1: 10, 2: 20}\n",
        "dic2 = {3: 30, 4: 40}\n",
        "dic3 = {5: 50, 6: 60}\n",
        "\n",
        "combined_dict = {**dic1, **dic2, **dic3}\n",
        "\n",
        "print(\"Combined dictionary:\", combined_dict)\n",
        "\n"
      ]
    },
    {
      "cell_type": "markdown",
      "source": [
        "## Question 11\n",
        "Design a Python function that takes a tuple of integers as input and returns the largest and smallest elements."
      ],
      "metadata": {
        "id": "bkyZ2xSZUOst"
      }
    },
    {
      "cell_type": "code",
      "source": [
        "def find_largest_and_smallest(nums):\n",
        "    if not nums:\n",
        "        return None, None\n",
        "\n",
        "    largest = nums[0]\n",
        "    smallest = nums[0]\n",
        "\n",
        "    for num in nums:\n",
        "        if num > largest:\n",
        "            largest = num\n",
        "        if num < smallest:\n",
        "            smallest = num\n",
        "\n",
        "    return largest, smallest\n",
        "\n",
        "example_tuple = (4, 1, 7, 3, 9, -2)\n",
        "largest, smallest = find_largest_and_smallest(example_tuple)\n",
        "print(f\"Largest element: {largest}\")\n",
        "print(f\"Smallest element: {smallest}\")\n"
      ],
      "metadata": {
        "id": "3FdLRBKOUQEd",
        "colab": {
          "base_uri": "https://localhost:8080/"
        },
        "outputId": "6e95d147-e8c9-4e4e-85ba-c7e8f874ab72"
      },
      "execution_count": 11,
      "outputs": [
        {
          "output_type": "stream",
          "name": "stdout",
          "text": [
            "Largest element: 9\n",
            "Smallest element: -2\n"
          ]
        }
      ]
    },
    {
      "cell_type": "markdown",
      "source": [
        "## Question 12\n",
        "Write a Python program that counts the frequency of each character in a given string and stores it in a dictionary."
      ],
      "metadata": {
        "id": "O0TVi3gKUTpp"
      }
    },
    {
      "cell_type": "code",
      "source": [
        "def count_character_frequency(s):\n",
        "    frequency_dict = {}\n",
        "\n",
        "    for char in s:\n",
        "\n",
        "        if char in frequency_dict:\n",
        "            frequency_dict[char] += 1\n",
        "\n",
        "        else:\n",
        "            frequency_dict[char] = 1\n",
        "\n",
        "    return frequency_dict\n",
        "\n",
        "\n",
        "input_string = input(\"Please enter a string: \")\n",
        "frequency = count_character_frequency(input_string)\n",
        "print(\"Character frequencies:\", frequency)\n"
      ],
      "metadata": {
        "id": "lAtfSfZXUU-h",
        "colab": {
          "base_uri": "https://localhost:8080/"
        },
        "outputId": "72fc3bd4-0fb1-49a6-e194-c3faba9e577a"
      },
      "execution_count": 12,
      "outputs": [
        {
          "output_type": "stream",
          "name": "stdout",
          "text": [
            "Please enter a string: shannu\n",
            "Character frequencies: {'s': 1, 'h': 1, 'a': 1, 'n': 2, 'u': 1}\n"
          ]
        }
      ]
    },
    {
      "cell_type": "markdown",
      "metadata": {
        "id": "0v48Vqa7FrQh"
      },
      "source": [
        "## Question 13\n",
        "Implement a Python script to identify duplicate elements in a provided array of integers. Return -1 if there are no duplicates."
      ]
    },
    {
      "cell_type": "code",
      "execution_count": 13,
      "metadata": {
        "id": "7WEmgq-DF2P1",
        "colab": {
          "base_uri": "https://localhost:8080/"
        },
        "outputId": "45dc705e-4f75-449c-e198-8e2f94fdf471"
      },
      "outputs": [
        {
          "output_type": "stream",
          "name": "stdout",
          "text": [
            "list of integers separated with spaces: 1 2 3 4 5\n",
            "No duplicates found.\n"
          ]
        }
      ],
      "source": [
        "def find_duplicates(arr):\n",
        "    seen = set()\n",
        "    duplicates = set()\n",
        "\n",
        "    for num in arr:\n",
        "        if num in seen:\n",
        "            duplicates.add(num)\n",
        "        else:\n",
        "            seen.add(num)\n",
        "\n",
        "    if duplicates:\n",
        "        return list(duplicates)\n",
        "    else:\n",
        "        return -1\n",
        "\n",
        "input_array = list(map(int, input(\"list of integers separated with spaces: \").split()))\n",
        "result = find_duplicates(input_array)\n",
        "\n",
        "if result == -1:\n",
        "    print(\"No duplicates found.\")\n",
        "else:\n",
        "    print(\"Duplicate elements:\", result)\n"
      ]
    },
    {
      "cell_type": "markdown",
      "metadata": {
        "id": "vD5PYLMuGga_"
      },
      "source": [
        "## Question 14\n",
        "Write a Python script to find the common elements between two lists."
      ]
    },
    {
      "cell_type": "code",
      "execution_count": 14,
      "metadata": {
        "id": "t0D5kdJUGjjw",
        "colab": {
          "base_uri": "https://localhost:8080/"
        },
        "outputId": "d6a3d29d-1a12-48ae-ae15-6f1cee3653a4"
      },
      "outputs": [
        {
          "output_type": "stream",
          "name": "stdout",
          "text": [
            "First list of integers by spaces: 1 2 3 4 5\n",
            "Second list of integers by spaces: 5 6 7 8 9\n",
            "Common elements: [5]\n"
          ]
        }
      ],
      "source": [
        "def find_common_elements(list1, list2):\n",
        "    set1 = set(list1)\n",
        "    set2 = set(list2)\n",
        "\n",
        "    common_elements = set1 & set2\n",
        "\n",
        "    return list(common_elements)\n",
        "\n",
        "list1 = list(map(int, input(\"First list of integers by spaces: \").split()))\n",
        "list2 = list(map(int, input(\"Second list of integers by spaces: \").split()))\n",
        "\n",
        "common = find_common_elements(list1, list2)\n",
        "\n",
        "print(\"Common elements:\", common)\n"
      ]
    },
    {
      "cell_type": "markdown",
      "metadata": {
        "id": "uHkd-y5VhVWC"
      },
      "source": [
        "## Question 15\n",
        "Write a Python program to randomly divide the students in this class into maximum of eight groups for term projects, each group should have at least 4 students but no more than 6 students (including 6).\n",
        "\n",
        "Here is the students list:\n",
        "\n",
        "student_list_spring_2024=[rb0846,\n",
        "ac1964,\n",
        "hc0612,\n",
        "md0912,\n",
        "ad1198,\n",
        "md0894,\n",
        "md0825,\n",
        "vg0598,\n",
        "vg0433,\n",
        "mh1068,\n",
        "yj0173,\n",
        "pk0553,\n",
        "tk0411,\n",
        "srk0204,\n",
        "sk2922,\n",
        "sk2936,\n",
        "mk1302,\n",
        "mk1317,\n",
        "tk0412,\n",
        "vk0656,\n",
        "sm2985,\n",
        "mm2372,\n",
        "un0045,\n",
        "an0892,\n",
        "sn0913,\n",
        "gp0252,\n",
        "ap1484,\n",
        "mr1765,\n",
        "sr1385,\n",
        "sr1335,\n",
        "hs0665,\n",
        "ms2060,\n",
        "gt0217,\n",
        "nt0385,\n",
        "tv0186,\n",
        "sv1394,\n",
        "sv1752,\n",
        "sv1555,\n",
        "sy0594\n",
        "]\n"
      ]
    },
    {
      "cell_type": "code",
      "execution_count": 15,
      "metadata": {
        "id": "3iGbmcOBhTwy",
        "colab": {
          "base_uri": "https://localhost:8080/"
        },
        "outputId": "7daab2bd-c0d8-4fa7-862e-6d73db64b401"
      },
      "outputs": [
        {
          "output_type": "stream",
          "name": "stdout",
          "text": [
            "Group 1: ['hc0612', 'tv0186', 'mr1765', 'sm2985', 'sv1555']\n",
            "Group 2: ['md0825', 'vg0433', 'sk2922', 'md0894', 'sy0594']\n",
            "Group 3: ['sv1394', 'tk0411', 'pk0553', 'an0892', 'rb0846']\n",
            "Group 4: ['tk0412', 'mk1302', 'mh1068', 'sn0913', 'ms2060']\n",
            "Group 5: ['ap1484', 'gp0252', 'hs0665', 'ad1198', 'sr1335']\n",
            "Group 6: ['un0045', 'vk0656', 'yj0173', 'ac1964', 'sv1752']\n",
            "Group 7: ['mk1317', 'md0912', 'sk2936', 'srk0204']\n",
            "Group 8: ['gt0217', 'nt0385', 'mm2372', 'sr1385', 'vg0598']\n"
          ]
        }
      ],
      "source": [
        "import random\n",
        "\n",
        "def divide_students(student_list):\n",
        "    random.shuffle(student_list)\n",
        "\n",
        "    groups = []\n",
        "    min_size, max_size = 4, 6\n",
        "\n",
        "    while student_list:\n",
        "        group_size = random.randint(min_size, max_size)\n",
        "        group_size = min(group_size, len(student_list))\n",
        "        groups.append(student_list[:group_size])\n",
        "        student_list = student_list[group_size:]\n",
        "\n",
        "    return groups\n",
        "\n",
        "student_list_spring_2024 = [\n",
        "    'rb0846', 'ac1964', 'hc0612', 'md0912', 'ad1198', 'md0894', 'md0825', 'vg0598', 'vg0433',\n",
        "    'mh1068', 'yj0173', 'pk0553', 'tk0411', 'srk0204', 'sk2922', 'sk2936', 'mk1302', 'mk1317',\n",
        "    'tk0412', 'vk0656', 'sm2985', 'mm2372', 'un0045', 'an0892', 'sn0913', 'gp0252', 'ap1484',\n",
        "    'mr1765', 'sr1385', 'sr1335', 'hs0665', 'ms2060', 'gt0217', 'nt0385', 'tv0186', 'sv1394',\n",
        "    'sv1752', 'sv1555', 'sy0594'\n",
        "]\n",
        "\n",
        "groups = divide_students(student_list_spring_2024)\n",
        "for i, group in enumerate(groups, 1):\n",
        "    print(f\"Group {i}: {group}\")\n"
      ]
    },
    {
      "cell_type": "markdown",
      "metadata": {
        "id": "fmZ9vX20Qs3d"
      },
      "source": [
        "## Question 16\n",
        "Create a program that takes a positive integer 'n' as input and prints the count of even numbers from 1 to 'n'. Optimize the loop using the continue statement."
      ]
    },
    {
      "cell_type": "code",
      "execution_count": 17,
      "metadata": {
        "id": "W8Jw6sWMQs3d",
        "colab": {
          "base_uri": "https://localhost:8080/"
        },
        "outputId": "4da6633c-a5b1-48bf-dd98-a1ec7d8fb24a"
      },
      "outputs": [
        {
          "output_type": "stream",
          "name": "stdout",
          "text": [
            "Enter a positive integer: 9\n",
            "Count of even numbers from 1 to 9 is: 4\n"
          ]
        }
      ],
      "source": [
        "def count_even_numbers(n):\n",
        "    count = 0\n",
        "    for i in range(1, n + 1):\n",
        "        if i % 2 != 0:\n",
        "            continue\n",
        "        count += 1\n",
        "    return count\n",
        "\n",
        "n = int(input(\"Enter a positive integer: \"))\n",
        "\n",
        "if n <= 0:\n",
        "    print(\"Please enter a positive integer.\")\n",
        "else:\n",
        "    result = count_even_numbers(n)\n",
        "    print(f\"Count of even numbers from 1 to {n} is: {result}\")\n"
      ]
    },
    {
      "cell_type": "markdown",
      "metadata": {
        "id": "hvq4APMhQs3d"
      },
      "source": [
        "## Question 17\n",
        "Develop a Python function called 'count_vowels' that takes a string as input and returns the count of vowels (both lowercase and uppercase) present in the string, ignoring spaces and non-alphabetic characters."
      ]
    },
    {
      "cell_type": "code",
      "execution_count": 18,
      "metadata": {
        "id": "ZnoxhSglQs3d",
        "colab": {
          "base_uri": "https://localhost:8080/"
        },
        "outputId": "b6adcf4d-02f8-422f-83ed-614a6cf34907"
      },
      "outputs": [
        {
          "output_type": "stream",
          "name": "stdout",
          "text": [
            "Enter a string: shannu\n",
            "Count of vowels in the string: 2\n"
          ]
        }
      ],
      "source": [
        "def count_vowels(s):\n",
        "    vowels = \"aeiouAEIOU\"\n",
        "\n",
        "    vowel_count = 0\n",
        "\n",
        "    for char in s:\n",
        "        if char in vowels:\n",
        "            vowel_count += 1\n",
        "\n",
        "    return vowel_count\n",
        "\n",
        "input_string = input(\"Enter a string: \")\n",
        "result = count_vowels(input_string)\n",
        "print(f\"Count of vowels in the string: {result}\")\n"
      ]
    },
    {
      "cell_type": "markdown",
      "source": [
        "## Question 18\n",
        "Create a custom exception named ValueTooSmallError in Python. Write a program that takes user input for an age, and if the entered age is less than 18, raise the ValueTooSmallError with an appropriate error message."
      ],
      "metadata": {
        "id": "55FWoSJPVVM6"
      }
    },
    {
      "cell_type": "code",
      "source": [
        "class ValueTooSmallError(Exception):\n",
        "    def __init__(self, message=\"Age must be at least 18.\"):\n",
        "        self.message = message\n",
        "        super().__init__(self.message)\n",
        "\n",
        "def check_age(age):\n",
        "    if age < 18:\n",
        "        raise ValueTooSmallError(\"The entered age is less than 18. You must be at least 18 years old.\")\n",
        "    return \"Age is acceptable.\"\n",
        "\n",
        "try:\n",
        "    user_age = int(input(\"Enter your age: \"))\n",
        "    result = check_age(user_age)\n",
        "    print(result)\n",
        "except ValueTooSmallError as e:\n",
        "    print(e)\n",
        "except ValueError:\n",
        "    print(\"Please enter a valid integer.\")\n"
      ],
      "metadata": {
        "id": "hwtr1wZmVX5A",
        "colab": {
          "base_uri": "https://localhost:8080/"
        },
        "outputId": "1f91fcc6-524b-4acd-e9f0-ab4dfaf50fc0"
      },
      "execution_count": 19,
      "outputs": [
        {
          "output_type": "stream",
          "name": "stdout",
          "text": [
            "Enter your age: 21\n",
            "Age is acceptable.\n"
          ]
        }
      ]
    },
    {
      "cell_type": "markdown",
      "source": [
        "## Question 19\n",
        "Develop a script that reverses a given string without using built-in reverse functions."
      ],
      "metadata": {
        "id": "Q9ecagcaVazW"
      }
    },
    {
      "cell_type": "code",
      "source": [
        "def reverse_string(s):\n",
        "    reversed_str = ''\n",
        "    for char in s:\n",
        "        reversed_str = char + reversed_str\n",
        "    return reversed_str\n",
        "\n",
        "input_string = input(\"Enter a string to reverse: \")\n",
        "reversed_string = reverse_string(input_string)\n",
        "print(f\"Reversed string: {reversed_string}\")\n"
      ],
      "metadata": {
        "id": "gycgckoAVZjR",
        "colab": {
          "base_uri": "https://localhost:8080/"
        },
        "outputId": "7bc4fe87-d991-4eae-e524-714293b1fd5a"
      },
      "execution_count": 20,
      "outputs": [
        {
          "output_type": "stream",
          "name": "stdout",
          "text": [
            "Enter a string to reverse: shannu\n",
            "Reversed string: unnahs\n"
          ]
        }
      ]
    },
    {
      "cell_type": "markdown",
      "source": [
        "## Question 20\n",
        "Implement a Python script to generate a random password of a specified length."
      ],
      "metadata": {
        "id": "ZFG6RibifMLu"
      }
    },
    {
      "cell_type": "code",
      "source": [
        "import random\n",
        "import string\n",
        "\n",
        "def generate_random_password(length):\n",
        "    characters = string.ascii_letters + string.digits + string.punctuation\n",
        "\n",
        "    if length < 1:\n",
        "        raise ValueError(\"Password length must be at least 1.\")\n",
        "\n",
        "    password = ''.join(random.choice(characters) for _ in range(length))\n",
        "\n",
        "    return password\n",
        "\n",
        "try:\n",
        "    length = int(input(\"Enter the desired password length: \"))\n",
        "    password = generate_random_password(length)\n",
        "    print(f\"Generated password: {password}\")\n",
        "except ValueError as e:\n",
        "    print(f\"Error: {e}\")\n"
      ],
      "metadata": {
        "id": "BFVrkEi9fNiD",
        "colab": {
          "base_uri": "https://localhost:8080/"
        },
        "outputId": "2ee10d2e-7b5a-441b-8e04-317b28a41996"
      },
      "execution_count": 21,
      "outputs": [
        {
          "output_type": "stream",
          "name": "stdout",
          "text": [
            "Enter the desired password length: 6\n",
            "Generated password: ;65ckv\n"
          ]
        }
      ]
    },
    {
      "cell_type": "markdown",
      "source": [
        "# Try these questions"
      ],
      "metadata": {
        "id": "6SmvS7nSfbj8"
      }
    },
    {
      "cell_type": "markdown",
      "source": [
        "(21) Define a base class called 'Vehicle' with attributes make and model. Create a derived class Car that inherits from Vehicle and has an additional attribute 'num_doors'. Demonstrate an example of creating an instance of the 'Car' class and accessing its attributes."
      ],
      "metadata": {
        "id": "cboAr5pEWUf5"
      }
    },
    {
      "cell_type": "code",
      "source": [
        "# write your answer here\n"
      ],
      "metadata": {
        "id": "phs9gciMWWAW"
      },
      "execution_count": null,
      "outputs": []
    },
    {
      "cell_type": "markdown",
      "source": [
        "(22) Create a class called 'Shape' with a method calculate_area(). Implement two derived classes 'Circle' and 'Rectangle' that inherit from Shape and override the calculate_area() method. Demonstrate polymorphism by creating instances of both derived classes and calling the calculate_area() method."
      ],
      "metadata": {
        "id": "J8HHefNtePwd"
      }
    },
    {
      "cell_type": "code",
      "source": [
        "# write your answer here"
      ],
      "metadata": {
        "id": "btnMmUZDeRhS"
      },
      "execution_count": null,
      "outputs": []
    },
    {
      "cell_type": "markdown",
      "source": [
        "(23) Write a Python program that prompts the user to enter two numbers and perform a division operation. Handle exceptions for both zero division and invalid input (non-numeric input). Display appropriate error messages for each type of exception and ensure the program does not crash due to these errors."
      ],
      "metadata": {
        "id": "z0oqEAlTeMUS"
      }
    },
    {
      "cell_type": "code",
      "source": [
        "# write your answer here"
      ],
      "metadata": {
        "id": "yjdc1zM1eMAs"
      },
      "execution_count": null,
      "outputs": []
    },
    {
      "cell_type": "markdown",
      "source": [
        "# Mandatory Question"
      ],
      "metadata": {
        "id": "sZOhks1dXWEe"
      }
    },
    {
      "cell_type": "markdown",
      "source": [
        "**Important:**\n",
        "Reflecting on the first three lectures and the exercises you've completed, please provide feedback on your learning experience. Share your thoughts on whether the material covered was clear, the exercises were helpful, and if you feel more confident in applying Python programming concepts. Additionally, mention any specific areas where you would like more clarification or topics you would like to explore further in future lectures. Your feedback is valuable in shaping the course for an effective learning journey."
      ],
      "metadata": {
        "id": "eqmHVEwaWhbV"
      }
    },
    {
      "cell_type": "code",
      "source": [
        "'''\n",
        "The material and exercises in the first three lectures were clear and helpful, boosting my confidence in Python\n",
        "'''"
      ],
      "metadata": {
        "id": "akAVJn9YBTQT"
      },
      "execution_count": null,
      "outputs": []
    }
  ],
  "metadata": {
    "colab": {
      "provenance": [],
      "collapsed_sections": [
        "FBKvD6O_TY6e",
        "E9RqrlwdTfvl",
        "03jb4GZsBkBS",
        "jJDe71iLB616",
        "55W9AMdXCSpV",
        "4ulBZ6yhCi9F",
        "6SmvS7nSfbj8",
        "sZOhks1dXWEe"
      ],
      "toc_visible": true,
      "include_colab_link": true
    },
    "kernelspec": {
      "display_name": "Python 3 (ipykernel)",
      "language": "python",
      "name": "python3"
    },
    "language_info": {
      "codemirror_mode": {
        "name": "ipython",
        "version": 3
      },
      "file_extension": ".py",
      "mimetype": "text/x-python",
      "name": "python",
      "nbconvert_exporter": "python",
      "pygments_lexer": "ipython3",
      "version": "3.9.12"
    }
  },
  "nbformat": 4,
  "nbformat_minor": 0
}